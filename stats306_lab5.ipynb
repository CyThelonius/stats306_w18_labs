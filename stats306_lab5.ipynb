{
 "cells": [
  {
   "cell_type": "markdown",
   "metadata": {},
   "source": [
    "# Lab 6: Intro to data wrangling\n",
    "## Tibbles\n",
    "We've used tibbles to construct examples in the past. For example, in lab 3, we used a tibble to demonstrate how  𝚊𝚛𝚛𝚊𝚗𝚐𝚎arrange  works:"
   ]
  },
  {
   "cell_type": "code",
   "execution_count": 1,
   "metadata": {},
   "outputs": [
    {
     "name": "stderr",
     "output_type": "stream",
     "text": [
      "Loading required package: tidyverse\n",
      "Loading tidyverse: ggplot2\n",
      "Loading tidyverse: tibble\n",
      "Loading tidyverse: tidyr\n",
      "Loading tidyverse: readr\n",
      "Loading tidyverse: purrr\n",
      "Loading tidyverse: dplyr\n",
      "Conflicts with tidy packages ---------------------------------------------------\n",
      "filter(): dplyr, stats\n",
      "lag():    dplyr, stats\n"
     ]
    }
   ],
   "source": [
    "require(tidyverse)"
   ]
  },
  {
   "cell_type": "code",
   "execution_count": 2,
   "metadata": {},
   "outputs": [
    {
     "name": "stdout",
     "output_type": "stream",
     "text": [
      "# A tibble: 3 x 1\n",
      "      x\n",
      "  <dbl>\n",
      "1     5\n",
      "2    NA\n",
      "3     2\n"
     ]
    }
   ],
   "source": [
    "# create a tibble\n",
    "tbl = tibble(x = c(5, NA, 2))\n",
    "print(tbl)"
   ]
  },
  {
   "cell_type": "code",
   "execution_count": 3,
   "metadata": {},
   "outputs": [
    {
     "data": {
      "text/html": [
       "<table>\n",
       "<thead><tr><th scope=col>x</th></tr></thead>\n",
       "<tbody>\n",
       "\t<tr><td> 2</td></tr>\n",
       "\t<tr><td> 5</td></tr>\n",
       "\t<tr><td>NA</td></tr>\n",
       "</tbody>\n",
       "</table>\n"
      ],
      "text/latex": [
       "\\begin{tabular}{r|l}\n",
       " x\\\\\n",
       "\\hline\n",
       "\t  2\\\\\n",
       "\t  5\\\\\n",
       "\t NA\\\\\n",
       "\\end{tabular}\n"
      ],
      "text/markdown": [
       "\n",
       "x | \n",
       "|---|---|---|\n",
       "|  2 | \n",
       "|  5 | \n",
       "| NA | \n",
       "\n",
       "\n"
      ],
      "text/plain": [
       "  x \n",
       "1  2\n",
       "2  5\n",
       "3 NA"
      ]
     },
     "metadata": {},
     "output_type": "display_data"
    }
   ],
   "source": [
    "arrange(tbl, x)"
   ]
  },
  {
   "cell_type": "code",
   "execution_count": 4,
   "metadata": {},
   "outputs": [
    {
     "data": {
      "text/html": [
       "'data.frame'"
      ],
      "text/latex": [
       "'data.frame'"
      ],
      "text/markdown": [
       "'data.frame'"
      ],
      "text/plain": [
       "[1] \"data.frame\""
      ]
     },
     "metadata": {},
     "output_type": "display_data"
    }
   ],
   "source": [
    "class(iris)"
   ]
  },
  {
   "cell_type": "code",
   "execution_count": 6,
   "metadata": {},
   "outputs": [
    {
     "data": {
      "text/html": [
       "<ol class=list-inline>\n",
       "\t<li>'tbl_df'</li>\n",
       "\t<li>'tbl'</li>\n",
       "\t<li>'data.frame'</li>\n",
       "</ol>\n"
      ],
      "text/latex": [
       "\\begin{enumerate*}\n",
       "\\item 'tbl\\_df'\n",
       "\\item 'tbl'\n",
       "\\item 'data.frame'\n",
       "\\end{enumerate*}\n"
      ],
      "text/markdown": [
       "1. 'tbl_df'\n",
       "2. 'tbl'\n",
       "3. 'data.frame'\n",
       "\n",
       "\n"
      ],
      "text/plain": [
       "[1] \"tbl_df\"     \"tbl\"        \"data.frame\""
      ]
     },
     "metadata": {},
     "output_type": "display_data"
    }
   ],
   "source": [
    "class(as_tibble(iris))"
   ]
  },
  {
   "cell_type": "code",
   "execution_count": 8,
   "metadata": {},
   "outputs": [
    {
     "name": "stdout",
     "output_type": "stream",
     "text": [
      "# A tibble: 150 x 5\n",
      "   Sepal.Length Sepal.Width Petal.Length Petal.Width Species\n",
      "          <dbl>       <dbl>        <dbl>       <dbl>  <fctr>\n",
      " 1          5.1         3.5          1.4         0.2  setosa\n",
      " 2          4.9         3.0          1.4         0.2  setosa\n",
      " 3          4.7         3.2          1.3         0.2  setosa\n",
      " 4          4.6         3.1          1.5         0.2  setosa\n",
      " 5          5.0         3.6          1.4         0.2  setosa\n",
      " 6          5.4         3.9          1.7         0.4  setosa\n",
      " 7          4.6         3.4          1.4         0.3  setosa\n",
      " 8          5.0         3.4          1.5         0.2  setosa\n",
      " 9          4.4         2.9          1.4         0.2  setosa\n",
      "10          4.9         3.1          1.5         0.1  setosa\n",
      "# ... with 140 more rows\n"
     ]
    }
   ],
   "source": [
    "iris_tbl = as_tibble(iris)\n",
    "print(iris_tbl)"
   ]
  },
  {
   "cell_type": "markdown",
   "metadata": {},
   "source": [
    "Another way to create a tibble is with tribble(), short for transposed tibble. tribble() is customised for data entry in code: column headings are defined by formulas (i.e. they start with ~), and entries are separated by commas. This makes it possible to lay out small amounts of data in easy to read form."
   ]
  },
  {
   "cell_type": "code",
   "execution_count": 9,
   "metadata": {},
   "outputs": [
    {
     "data": {
      "text/html": [
       "<table>\n",
       "<thead><tr><th scope=col>x</th><th scope=col>y</th><th scope=col>z</th></tr></thead>\n",
       "<tbody>\n",
       "\t<tr><td>a  </td><td>2  </td><td>3.6</td></tr>\n",
       "\t<tr><td>b  </td><td>1  </td><td>8.5</td></tr>\n",
       "</tbody>\n",
       "</table>\n"
      ],
      "text/latex": [
       "\\begin{tabular}{r|lll}\n",
       " x & y & z\\\\\n",
       "\\hline\n",
       "\t a   & 2   & 3.6\\\\\n",
       "\t b   & 1   & 8.5\\\\\n",
       "\\end{tabular}\n"
      ],
      "text/markdown": [
       "\n",
       "x | y | z | \n",
       "|---|---|\n",
       "| a   | 2   | 3.6 | \n",
       "| b   | 1   | 8.5 | \n",
       "\n",
       "\n"
      ],
      "text/plain": [
       "  x y z  \n",
       "1 a 2 3.6\n",
       "2 b 1 8.5"
      ]
     },
     "metadata": {},
     "output_type": "display_data"
    }
   ],
   "source": [
    "tribble(\n",
    "  ~x, ~y, ~z,\n",
    "  \"a\", 2, 3.6,\n",
    "  \"b\", 1, 8.5\n",
    ")"
   ]
  },
  {
   "cell_type": "markdown",
   "metadata": {},
   "source": [
    "The benefit of tibble over dataframe is that it allows us to visualize and subset our data more easily."
   ]
  },
  {
   "cell_type": "markdown",
   "metadata": {},
   "source": [
    "## Printing"
   ]
  },
  {
   "cell_type": "code",
   "execution_count": 10,
   "metadata": {},
   "outputs": [],
   "source": [
    "mytbl = \n",
    "tibble(\n",
    "  a = lubridate::now() + runif(1e3) * 86400,\n",
    "  b = lubridate::today() + runif(1e3) * 30,\n",
    "  c = 1:1e3,\n",
    "  d = runif(1e3),\n",
    "  e = sample(letters, 1e3, replace = TRUE)\n",
    ")"
   ]
  },
  {
   "cell_type": "markdown",
   "metadata": {},
   "source": [
    "Run  𝚙𝚛𝚒𝚗𝚝(𝚖𝚢𝚝𝚋𝚕)  on the above command on an R console and it will only output the first 10 rows with each column having a clear data type.\n",
    "\n",
    "You can explicitly  𝚙𝚛𝚒𝚗𝚝()  the data frame and control the number of rows (n) and the width of the display.  𝚠𝚒𝚍𝚝𝚑 = 𝙸𝚗𝚏width = Inf  will display all columns:"
   ]
  },
  {
   "cell_type": "code",
   "execution_count": 11,
   "metadata": {},
   "outputs": [
    {
     "name": "stdout",
     "output_type": "stream",
     "text": [
      "# A tibble: 336,776 x 19\n",
      "    year month   day dep_time sched_dep_time dep_delay arr_time sched_arr_time arr_delay carrier flight tailnum origin  dest air_time distance  hour minute           time_hour\n",
      "   <int> <int> <int>    <int>          <int>     <dbl>    <int>          <int>     <dbl>   <chr>  <int>   <chr>  <chr> <chr>    <dbl>    <dbl> <dbl>  <dbl>              <dttm>\n",
      " 1  2013     1     1      517            515         2      830            819        11      UA   1545  N14228    EWR   IAH      227     1400     5     15 2013-01-01 05:00:00\n",
      " 2  2013     1     1      533            529         4      850            830        20      UA   1714  N24211    LGA   IAH      227     1416     5     29 2013-01-01 05:00:00\n",
      " 3  2013     1     1      542            540         2      923            850        33      AA   1141  N619AA    JFK   MIA      160     1089     5     40 2013-01-01 05:00:00\n",
      " 4  2013     1     1      544            545        -1     1004           1022       -18      B6    725  N804JB    JFK   BQN      183     1576     5     45 2013-01-01 05:00:00\n",
      " 5  2013     1     1      554            600        -6      812            837       -25      DL    461  N668DN    LGA   ATL      116      762     6      0 2013-01-01 06:00:00\n",
      " 6  2013     1     1      554            558        -4      740            728        12      UA   1696  N39463    EWR   ORD      150      719     5     58 2013-01-01 05:00:00\n",
      " 7  2013     1     1      555            600        -5      913            854        19      B6    507  N516JB    EWR   FLL      158     1065     6      0 2013-01-01 06:00:00\n",
      " 8  2013     1     1      557            600        -3      709            723       -14      EV   5708  N829AS    LGA   IAD       53      229     6      0 2013-01-01 06:00:00\n",
      " 9  2013     1     1      557            600        -3      838            846        -8      B6     79  N593JB    JFK   MCO      140      944     6      0 2013-01-01 06:00:00\n",
      "10  2013     1     1      558            600        -2      753            745         8      AA    301  N3ALAA    LGA   ORD      138      733     6      0 2013-01-01 06:00:00\n",
      "11  2013     1     1      558            600        -2      849            851        -2      B6     49  N793JB    JFK   PBI      149     1028     6      0 2013-01-01 06:00:00\n",
      "12  2013     1     1      558            600        -2      853            856        -3      B6     71  N657JB    JFK   TPA      158     1005     6      0 2013-01-01 06:00:00\n",
      "# ... with 3.368e+05 more rows\n"
     ]
    }
   ],
   "source": [
    "nycflights13::flights %>% \n",
    "  print(n = 12, width = Inf)"
   ]
  },
  {
   "cell_type": "markdown",
   "metadata": {},
   "source": [
    "## Subsetting\n",
    "So far all the tools you’ve learned have worked with complete data frames. If you want to pull out a single variable, you need some new tools,  $  and  [[. [[  can extract by name or position; $ only extracts by name but is a little less typing."
   ]
  },
  {
   "cell_type": "code",
   "execution_count": 12,
   "metadata": {},
   "outputs": [],
   "source": [
    "df = tibble(\n",
    "  x = rpois(5, 1),\n",
    "  y = rgeom(5, 0.4)\n",
    ")"
   ]
  },
  {
   "cell_type": "code",
   "execution_count": 13,
   "metadata": {},
   "outputs": [
    {
     "data": {
      "text/html": [
       "<table>\n",
       "<thead><tr><th scope=col>x</th><th scope=col>y</th></tr></thead>\n",
       "<tbody>\n",
       "\t<tr><td>2</td><td>0</td></tr>\n",
       "\t<tr><td>1</td><td>1</td></tr>\n",
       "\t<tr><td>0</td><td>0</td></tr>\n",
       "\t<tr><td>0</td><td>0</td></tr>\n",
       "\t<tr><td>1</td><td>1</td></tr>\n",
       "</tbody>\n",
       "</table>\n"
      ],
      "text/latex": [
       "\\begin{tabular}{r|ll}\n",
       " x & y\\\\\n",
       "\\hline\n",
       "\t 2 & 0\\\\\n",
       "\t 1 & 1\\\\\n",
       "\t 0 & 0\\\\\n",
       "\t 0 & 0\\\\\n",
       "\t 1 & 1\\\\\n",
       "\\end{tabular}\n"
      ],
      "text/markdown": [
       "\n",
       "x | y | \n",
       "|---|---|---|---|---|\n",
       "| 2 | 0 | \n",
       "| 1 | 1 | \n",
       "| 0 | 0 | \n",
       "| 0 | 0 | \n",
       "| 1 | 1 | \n",
       "\n",
       "\n"
      ],
      "text/plain": [
       "  x y\n",
       "1 2 0\n",
       "2 1 1\n",
       "3 0 0\n",
       "4 0 0\n",
       "5 1 1"
      ]
     },
     "metadata": {},
     "output_type": "display_data"
    }
   ],
   "source": [
    "df"
   ]
  },
  {
   "cell_type": "code",
   "execution_count": 14,
   "metadata": {},
   "outputs": [
    {
     "data": {
      "text/html": [
       "<ol class=list-inline>\n",
       "\t<li>2</li>\n",
       "\t<li>1</li>\n",
       "\t<li>0</li>\n",
       "\t<li>0</li>\n",
       "\t<li>1</li>\n",
       "</ol>\n"
      ],
      "text/latex": [
       "\\begin{enumerate*}\n",
       "\\item 2\n",
       "\\item 1\n",
       "\\item 0\n",
       "\\item 0\n",
       "\\item 1\n",
       "\\end{enumerate*}\n"
      ],
      "text/markdown": [
       "1. 2\n",
       "2. 1\n",
       "3. 0\n",
       "4. 0\n",
       "5. 1\n",
       "\n",
       "\n"
      ],
      "text/plain": [
       "[1] 2 1 0 0 1"
      ]
     },
     "metadata": {},
     "output_type": "display_data"
    }
   ],
   "source": [
    "df$x"
   ]
  },
  {
   "cell_type": "code",
   "execution_count": 15,
   "metadata": {},
   "outputs": [
    {
     "data": {
      "text/html": [
       "<ol class=list-inline>\n",
       "\t<li>2</li>\n",
       "\t<li>1</li>\n",
       "\t<li>0</li>\n",
       "\t<li>0</li>\n",
       "\t<li>1</li>\n",
       "</ol>\n"
      ],
      "text/latex": [
       "\\begin{enumerate*}\n",
       "\\item 2\n",
       "\\item 1\n",
       "\\item 0\n",
       "\\item 0\n",
       "\\item 1\n",
       "\\end{enumerate*}\n"
      ],
      "text/markdown": [
       "1. 2\n",
       "2. 1\n",
       "3. 0\n",
       "4. 0\n",
       "5. 1\n",
       "\n",
       "\n"
      ],
      "text/plain": [
       "[1] 2 1 0 0 1"
      ]
     },
     "metadata": {},
     "output_type": "display_data"
    }
   ],
   "source": [
    "df[['x']]\n"
   ]
  },
  {
   "cell_type": "code",
   "execution_count": 16,
   "metadata": {},
   "outputs": [
    {
     "ename": "ERROR",
     "evalue": "Error in `[[.tbl_df`(df, x): object 'x' not found\n",
     "output_type": "error",
     "traceback": [
      "Error in `[[.tbl_df`(df, x): object 'x' not found\nTraceback:\n",
      "1. df[[x]]",
      "2. `[[.tbl_df`(df, x)"
     ]
    }
   ],
   "source": [
    "df[[x]]"
   ]
  },
  {
   "cell_type": "markdown",
   "metadata": {},
   "source": [
    "### Exercise\n",
    "* How can you tell if an object is a tibble? (Hint: try printing mtcars, which is a regular data frame).\n",
    "\n",
    "* Compare and contrast the following operations on a data.frame and equivalent tibble. What is different? Why might the default data frame behaviours cause you frustration?"
   ]
  },
  {
   "cell_type": "code",
   "execution_count": 17,
   "metadata": {},
   "outputs": [],
   "source": [
    "df <- data.frame(abc = 1, xyz = \"a\")\n",
    "# df$x\n",
    "# df[, \"xyz\"]\n",
    "# df[, c(\"abc\", \"xyz\")]"
   ]
  },
  {
   "cell_type": "markdown",
   "metadata": {},
   "source": [
    "* If you have the name of a variable stored in an object, e.g. var <- \"mpg\", how can you extract the reference variable from a tibble?\n",
    "\n",
    "* Practice referring to non-syntactic names in the following data frame by:\n",
    "\n",
    "- Extracting the variable called 1.\n",
    "\n",
    "- Plotting a scatterplot of 1 vs 2.\n",
    "\n",
    "- Creating a new column called 3 which is 2 divided by 1.\n",
    "\n",
    "- Renaming the columns to one, two and three."
   ]
  },
  {
   "cell_type": "code",
   "execution_count": 18,
   "metadata": {},
   "outputs": [],
   "source": [
    "annoying <- tibble(\n",
    "  `1` = 1:10,\n",
    "  `2` = `1` * 2 + rnorm(length(`1`))\n",
    ")"
   ]
  },
  {
   "cell_type": "markdown",
   "metadata": {},
   "source": [
    "## Data Import\n",
    "Most of  𝚛𝚎𝚊𝚍𝚛’𝚜readr’s  functions are concerned with turning flat files into data frames:\n",
    "\n",
    "read_csv() reads comma delimited files,  read_csv2()read_csv2()  reads semicolon separated files (common in countries where , is used as the decimal place),  read_tsv() reads tab delimited files, and read_delim() reads in files with any delimiter.\n",
    "\n",
    "read_log() reads Apache style log files. (But also check out webreadr which is built on top of read_log() and provides many more helpful tools.)"
   ]
  },
  {
   "cell_type": "code",
   "execution_count": 22,
   "metadata": {},
   "outputs": [
    {
     "data": {
      "text/html": [
       "<table>\n",
       "<thead><tr><th scope=col>crim</th><th scope=col>zn</th><th scope=col>indus</th><th scope=col>chas</th><th scope=col>nox</th><th scope=col>rm</th><th scope=col>age</th><th scope=col>dis</th><th scope=col>rad</th><th scope=col>tax</th><th scope=col>ptratio</th><th scope=col>black</th><th scope=col>lstat</th><th scope=col>medv</th></tr></thead>\n",
       "<tbody>\n",
       "\t<tr><td>0.00632</td><td>18     </td><td>2.31   </td><td>0      </td><td>0.538  </td><td>6.575  </td><td>65.2   </td><td>4.0900 </td><td>1      </td><td>296    </td><td>15.3   </td><td>396.90 </td><td>4.98   </td><td>24.0   </td></tr>\n",
       "\t<tr><td>0.02731</td><td> 0     </td><td>7.07   </td><td>0      </td><td>0.469  </td><td>6.421  </td><td>78.9   </td><td>4.9671 </td><td>2      </td><td>242    </td><td>17.8   </td><td>396.90 </td><td>9.14   </td><td>21.6   </td></tr>\n",
       "\t<tr><td>0.02729</td><td> 0     </td><td>7.07   </td><td>0      </td><td>0.469  </td><td>7.185  </td><td>61.1   </td><td>4.9671 </td><td>2      </td><td>242    </td><td>17.8   </td><td>392.83 </td><td>4.03   </td><td>34.7   </td></tr>\n",
       "\t<tr><td>0.03237</td><td> 0     </td><td>2.18   </td><td>0      </td><td>0.458  </td><td>6.998  </td><td>45.8   </td><td>6.0622 </td><td>3      </td><td>222    </td><td>18.7   </td><td>394.63 </td><td>2.94   </td><td>33.4   </td></tr>\n",
       "\t<tr><td>0.06905</td><td> 0     </td><td>2.18   </td><td>0      </td><td>0.458  </td><td>7.147  </td><td>54.2   </td><td>6.0622 </td><td>3      </td><td>222    </td><td>18.7   </td><td>396.90 </td><td>5.33   </td><td>36.2   </td></tr>\n",
       "\t<tr><td>0.02985</td><td> 0     </td><td>2.18   </td><td>0      </td><td>0.458  </td><td>6.430  </td><td>58.7   </td><td>6.0622 </td><td>3      </td><td>222    </td><td>18.7   </td><td>394.12 </td><td>5.21   </td><td>28.7   </td></tr>\n",
       "</tbody>\n",
       "</table>\n"
      ],
      "text/latex": [
       "\\begin{tabular}{r|llllllllllllll}\n",
       " crim & zn & indus & chas & nox & rm & age & dis & rad & tax & ptratio & black & lstat & medv\\\\\n",
       "\\hline\n",
       "\t 0.00632 & 18      & 2.31    & 0       & 0.538   & 6.575   & 65.2    & 4.0900  & 1       & 296     & 15.3    & 396.90  & 4.98    & 24.0   \\\\\n",
       "\t 0.02731 &  0      & 7.07    & 0       & 0.469   & 6.421   & 78.9    & 4.9671  & 2       & 242     & 17.8    & 396.90  & 9.14    & 21.6   \\\\\n",
       "\t 0.02729 &  0      & 7.07    & 0       & 0.469   & 7.185   & 61.1    & 4.9671  & 2       & 242     & 17.8    & 392.83  & 4.03    & 34.7   \\\\\n",
       "\t 0.03237 &  0      & 2.18    & 0       & 0.458   & 6.998   & 45.8    & 6.0622  & 3       & 222     & 18.7    & 394.63  & 2.94    & 33.4   \\\\\n",
       "\t 0.06905 &  0      & 2.18    & 0       & 0.458   & 7.147   & 54.2    & 6.0622  & 3       & 222     & 18.7    & 396.90  & 5.33    & 36.2   \\\\\n",
       "\t 0.02985 &  0      & 2.18    & 0       & 0.458   & 6.430   & 58.7    & 6.0622  & 3       & 222     & 18.7    & 394.12  & 5.21    & 28.7   \\\\\n",
       "\\end{tabular}\n"
      ],
      "text/markdown": [
       "\n",
       "crim | zn | indus | chas | nox | rm | age | dis | rad | tax | ptratio | black | lstat | medv | \n",
       "|---|---|---|---|---|---|\n",
       "| 0.00632 | 18      | 2.31    | 0       | 0.538   | 6.575   | 65.2    | 4.0900  | 1       | 296     | 15.3    | 396.90  | 4.98    | 24.0    | \n",
       "| 0.02731 |  0      | 7.07    | 0       | 0.469   | 6.421   | 78.9    | 4.9671  | 2       | 242     | 17.8    | 396.90  | 9.14    | 21.6    | \n",
       "| 0.02729 |  0      | 7.07    | 0       | 0.469   | 7.185   | 61.1    | 4.9671  | 2       | 242     | 17.8    | 392.83  | 4.03    | 34.7    | \n",
       "| 0.03237 |  0      | 2.18    | 0       | 0.458   | 6.998   | 45.8    | 6.0622  | 3       | 222     | 18.7    | 394.63  | 2.94    | 33.4    | \n",
       "| 0.06905 |  0      | 2.18    | 0       | 0.458   | 7.147   | 54.2    | 6.0622  | 3       | 222     | 18.7    | 396.90  | 5.33    | 36.2    | \n",
       "| 0.02985 |  0      | 2.18    | 0       | 0.458   | 6.430   | 58.7    | 6.0622  | 3       | 222     | 18.7    | 394.12  | 5.21    | 28.7    | \n",
       "\n",
       "\n"
      ],
      "text/plain": [
       "  crim    zn indus chas nox   rm    age  dis    rad tax ptratio black  lstat\n",
       "1 0.00632 18 2.31  0    0.538 6.575 65.2 4.0900 1   296 15.3    396.90 4.98 \n",
       "2 0.02731  0 7.07  0    0.469 6.421 78.9 4.9671 2   242 17.8    396.90 9.14 \n",
       "3 0.02729  0 7.07  0    0.469 7.185 61.1 4.9671 2   242 17.8    392.83 4.03 \n",
       "4 0.03237  0 2.18  0    0.458 6.998 45.8 6.0622 3   222 18.7    394.63 2.94 \n",
       "5 0.06905  0 2.18  0    0.458 7.147 54.2 6.0622 3   222 18.7    396.90 5.33 \n",
       "6 0.02985  0 2.18  0    0.458 6.430 58.7 6.0622 3   222 18.7    394.12 5.21 \n",
       "  medv\n",
       "1 24.0\n",
       "2 21.6\n",
       "3 34.7\n",
       "4 33.4\n",
       "5 36.2\n",
       "6 28.7"
      ]
     },
     "metadata": {},
     "output_type": "display_data"
    },
    {
     "name": "stderr",
     "output_type": "stream",
     "text": [
      "Warning message in file(file, ifelse(append, \"a\", \"w\")):\n",
      "“cannot open file '/home/jovyan/Desktop/boston.csv': No such file or directory”"
     ]
    },
    {
     "ename": "ERROR",
     "evalue": "Error in file(file, ifelse(append, \"a\", \"w\")): cannot open the connection\n",
     "output_type": "error",
     "traceback": [
      "Error in file(file, ifelse(append, \"a\", \"w\")): cannot open the connection\nTraceback:\n",
      "1. write.csv(Boston, file = \"~/Desktop/boston.csv\", row.names = FALSE)",
      "2. eval.parent(Call)",
      "3. eval(expr, p)",
      "4. eval(expr, envir, enclos)",
      "5. write.table(Boston, file = \"~/Desktop/boston.csv\", row.names = FALSE, \n .     col.names = TRUE, sep = \",\", dec = \".\", qmethod = \"double\")",
      "6. file(file, ifelse(append, \"a\", \"w\"))"
     ]
    }
   ],
   "source": [
    "require(MASS)\n",
    "head(Boston)\n",
    "write.csv(Boston, file = \"~/Desktop/boston.csv\", row.names = FALSE)\n",
    "boston = read_csv(\"~/Desktop/boston.csv\")"
   ]
  },
  {
   "cell_type": "markdown",
   "metadata": {},
   "source": [
    "Notice that readr gets its column names from the first row of the CSV. If the first (or however many) has metadata instead of column names, you can use the following to indicate which line has the actual column names."
   ]
  },
  {
   "cell_type": "code",
   "execution_count": 23,
   "metadata": {},
   "outputs": [
    {
     "data": {
      "text/html": [
       "<table>\n",
       "<thead><tr><th scope=col>x</th><th scope=col>y</th><th scope=col>z</th></tr></thead>\n",
       "<tbody>\n",
       "\t<tr><td>1</td><td>2</td><td>3</td></tr>\n",
       "</tbody>\n",
       "</table>\n"
      ],
      "text/latex": [
       "\\begin{tabular}{r|lll}\n",
       " x & y & z\\\\\n",
       "\\hline\n",
       "\t 1 & 2 & 3\\\\\n",
       "\\end{tabular}\n"
      ],
      "text/markdown": [
       "\n",
       "x | y | z | \n",
       "|---|\n",
       "| 1 | 2 | 3 | \n",
       "\n",
       "\n"
      ],
      "text/plain": [
       "  x y z\n",
       "1 1 2 3"
      ]
     },
     "metadata": {},
     "output_type": "display_data"
    }
   ],
   "source": [
    "read_csv(\"The first line of metadata\n",
    "  The second line of metadata\n",
    "  x,y,z\n",
    "  1,2,3\", skip = 2)"
   ]
  },
  {
   "cell_type": "code",
   "execution_count": 24,
   "metadata": {},
   "outputs": [
    {
     "data": {
      "text/html": [
       "<table>\n",
       "<thead><tr><th scope=col>x</th><th scope=col>y</th><th scope=col>z</th></tr></thead>\n",
       "<tbody>\n",
       "\t<tr><td>1</td><td>2</td><td>3</td></tr>\n",
       "</tbody>\n",
       "</table>\n"
      ],
      "text/latex": [
       "\\begin{tabular}{r|lll}\n",
       " x & y & z\\\\\n",
       "\\hline\n",
       "\t 1 & 2 & 3\\\\\n",
       "\\end{tabular}\n"
      ],
      "text/markdown": [
       "\n",
       "x | y | z | \n",
       "|---|\n",
       "| 1 | 2 | 3 | \n",
       "\n",
       "\n"
      ],
      "text/plain": [
       "  x y z\n",
       "1 1 2 3"
      ]
     },
     "metadata": {},
     "output_type": "display_data"
    }
   ],
   "source": [
    "read_csv(\"# A comment I want to skip\n",
    "  x,y,z\n",
    "  1,2,3\", comment = \"#\")"
   ]
  },
  {
   "cell_type": "markdown",
   "metadata": {},
   "source": [
    "Sometimes the columns don't have names. Then you can tell readr to create the column names itself."
   ]
  },
  {
   "cell_type": "code",
   "execution_count": 25,
   "metadata": {},
   "outputs": [
    {
     "data": {
      "text/html": [
       "<table>\n",
       "<thead><tr><th scope=col>X1</th><th scope=col>X2</th><th scope=col>X3</th></tr></thead>\n",
       "<tbody>\n",
       "\t<tr><td>1</td><td>2</td><td>3</td></tr>\n",
       "\t<tr><td>4</td><td>5</td><td>6</td></tr>\n",
       "</tbody>\n",
       "</table>\n"
      ],
      "text/latex": [
       "\\begin{tabular}{r|lll}\n",
       " X1 & X2 & X3\\\\\n",
       "\\hline\n",
       "\t 1 & 2 & 3\\\\\n",
       "\t 4 & 5 & 6\\\\\n",
       "\\end{tabular}\n"
      ],
      "text/markdown": [
       "\n",
       "X1 | X2 | X3 | \n",
       "|---|---|\n",
       "| 1 | 2 | 3 | \n",
       "| 4 | 5 | 6 | \n",
       "\n",
       "\n"
      ],
      "text/plain": [
       "  X1 X2 X3\n",
       "1 1  2  3 \n",
       "2 4  5  6 "
      ]
     },
     "metadata": {},
     "output_type": "display_data"
    }
   ],
   "source": [
    "read_csv(\"1,2,3\\n4,5,6\", col_names = FALSE)"
   ]
  },
  {
   "cell_type": "code",
   "execution_count": 26,
   "metadata": {},
   "outputs": [
    {
     "data": {
      "text/html": [
       "<table>\n",
       "<thead><tr><th scope=col>x</th><th scope=col>y</th><th scope=col>z</th></tr></thead>\n",
       "<tbody>\n",
       "\t<tr><td>1</td><td>2</td><td>3</td></tr>\n",
       "\t<tr><td>4</td><td>5</td><td>6</td></tr>\n",
       "</tbody>\n",
       "</table>\n"
      ],
      "text/latex": [
       "\\begin{tabular}{r|lll}\n",
       " x & y & z\\\\\n",
       "\\hline\n",
       "\t 1 & 2 & 3\\\\\n",
       "\t 4 & 5 & 6\\\\\n",
       "\\end{tabular}\n"
      ],
      "text/markdown": [
       "\n",
       "x | y | z | \n",
       "|---|---|\n",
       "| 1 | 2 | 3 | \n",
       "| 4 | 5 | 6 | \n",
       "\n",
       "\n"
      ],
      "text/plain": [
       "  x y z\n",
       "1 1 2 3\n",
       "2 4 5 6"
      ]
     },
     "metadata": {},
     "output_type": "display_data"
    }
   ],
   "source": [
    "read_csv(\"1,2,3\\n4,5,6\", col_names = c(\"x\", \"y\", \"z\"))"
   ]
  },
  {
   "cell_type": "markdown",
   "metadata": {},
   "source": [
    "Another option that commonly needs tweaking is na: this specifies the value (or values) that are used to represent missing values in your file:"
   ]
  },
  {
   "cell_type": "code",
   "execution_count": 28,
   "metadata": {},
   "outputs": [
    {
     "data": {
      "text/html": [
       "<table>\n",
       "<thead><tr><th scope=col>a</th><th scope=col>b</th><th scope=col>c</th></tr></thead>\n",
       "<tbody>\n",
       "\t<tr><td>1 </td><td>2 </td><td>NA</td></tr>\n",
       "</tbody>\n",
       "</table>\n"
      ],
      "text/latex": [
       "\\begin{tabular}{r|lll}\n",
       " a & b & c\\\\\n",
       "\\hline\n",
       "\t 1  & 2  & NA\\\\\n",
       "\\end{tabular}\n"
      ],
      "text/markdown": [
       "\n",
       "a | b | c | \n",
       "|---|\n",
       "| 1  | 2  | NA | \n",
       "\n",
       "\n"
      ],
      "text/plain": [
       "  a b c \n",
       "1 1 2 NA"
      ]
     },
     "metadata": {},
     "output_type": "display_data"
    }
   ],
   "source": [
    "read_csv(\"a,b,c\\n1,2,.\", na = \".\")"
   ]
  },
  {
   "cell_type": "markdown",
   "metadata": {},
   "source": [
    "## Intro to Tidy data"
   ]
  },
  {
   "cell_type": "markdown",
   "metadata": {},
   "source": [
    "3 rules which make a dataset tidy:\n",
    "\n",
    "* Each variable must have its own column.\n",
    "* Each observation must have its own row.\n",
    "* Each value must have its own cell.\n",
    "table1 above is tidy.\n",
    "\n",
    "Advantages of tidy data:\n",
    "\n",
    "* Consistency of presentation\n",
    "\n",
    "* There’s a specific advantage to placing variables in columns because it allows R’s vectorised nature to shine. As you learned in mutate and summary functions, most built-in R functions work with vectors of values. That makes transforming tidy data feel particularly natural."
   ]
  },
  {
   "cell_type": "code",
   "execution_count": 29,
   "metadata": {},
   "outputs": [
    {
     "data": {
      "text/html": [
       "<table>\n",
       "<thead><tr><th scope=col>country</th><th scope=col>year</th><th scope=col>cases</th><th scope=col>population</th><th scope=col>rate</th></tr></thead>\n",
       "<tbody>\n",
       "\t<tr><td>Afghanistan</td><td>1999       </td><td>   745     </td><td>  19987071 </td><td>0.372741   </td></tr>\n",
       "\t<tr><td>Afghanistan</td><td>2000       </td><td>  2666     </td><td>  20595360 </td><td>1.294466   </td></tr>\n",
       "\t<tr><td>Brazil     </td><td>1999       </td><td> 37737     </td><td> 172006362 </td><td>2.193930   </td></tr>\n",
       "\t<tr><td>Brazil     </td><td>2000       </td><td> 80488     </td><td> 174504898 </td><td>4.612363   </td></tr>\n",
       "\t<tr><td>China      </td><td>1999       </td><td>212258     </td><td>1272915272 </td><td>1.667495   </td></tr>\n",
       "\t<tr><td>China      </td><td>2000       </td><td>213766     </td><td>1280428583 </td><td>1.669488   </td></tr>\n",
       "</tbody>\n",
       "</table>\n"
      ],
      "text/latex": [
       "\\begin{tabular}{r|lllll}\n",
       " country & year & cases & population & rate\\\\\n",
       "\\hline\n",
       "\t Afghanistan & 1999        &    745      &   19987071  & 0.372741   \\\\\n",
       "\t Afghanistan & 2000        &   2666      &   20595360  & 1.294466   \\\\\n",
       "\t Brazil      & 1999        &  37737      &  172006362  & 2.193930   \\\\\n",
       "\t Brazil      & 2000        &  80488      &  174504898  & 4.612363   \\\\\n",
       "\t China       & 1999        & 212258      & 1272915272  & 1.667495   \\\\\n",
       "\t China       & 2000        & 213766      & 1280428583  & 1.669488   \\\\\n",
       "\\end{tabular}\n"
      ],
      "text/markdown": [
       "\n",
       "country | year | cases | population | rate | \n",
       "|---|---|---|---|---|---|\n",
       "| Afghanistan | 1999        |    745      |   19987071  | 0.372741    | \n",
       "| Afghanistan | 2000        |   2666      |   20595360  | 1.294466    | \n",
       "| Brazil      | 1999        |  37737      |  172006362  | 2.193930    | \n",
       "| Brazil      | 2000        |  80488      |  174504898  | 4.612363    | \n",
       "| China       | 1999        | 212258      | 1272915272  | 1.667495    | \n",
       "| China       | 2000        | 213766      | 1280428583  | 1.669488    | \n",
       "\n",
       "\n"
      ],
      "text/plain": [
       "  country     year cases  population rate    \n",
       "1 Afghanistan 1999    745   19987071 0.372741\n",
       "2 Afghanistan 2000   2666   20595360 1.294466\n",
       "3 Brazil      1999  37737  172006362 2.193930\n",
       "4 Brazil      2000  80488  174504898 4.612363\n",
       "5 China       1999 212258 1272915272 1.667495\n",
       "6 China       2000 213766 1280428583 1.669488"
      ]
     },
     "metadata": {},
     "output_type": "display_data"
    }
   ],
   "source": [
    "# Compute rate per 10,000\n",
    "table1 %>% \n",
    "  mutate(rate = cases / population * 10000)"
   ]
  },
  {
   "cell_type": "code",
   "execution_count": 30,
   "metadata": {},
   "outputs": [
    {
     "data": {
      "text/html": [
       "<table>\n",
       "<thead><tr><th scope=col>year</th><th scope=col>n</th></tr></thead>\n",
       "<tbody>\n",
       "\t<tr><td>1999  </td><td>250740</td></tr>\n",
       "\t<tr><td>2000  </td><td>296920</td></tr>\n",
       "</tbody>\n",
       "</table>\n"
      ],
      "text/latex": [
       "\\begin{tabular}{r|ll}\n",
       " year & n\\\\\n",
       "\\hline\n",
       "\t 1999   & 250740\\\\\n",
       "\t 2000   & 296920\\\\\n",
       "\\end{tabular}\n"
      ],
      "text/markdown": [
       "\n",
       "year | n | \n",
       "|---|---|\n",
       "| 1999   | 250740 | \n",
       "| 2000   | 296920 | \n",
       "\n",
       "\n"
      ],
      "text/plain": [
       "  year n     \n",
       "1 1999 250740\n",
       "2 2000 296920"
      ]
     },
     "metadata": {},
     "output_type": "display_data"
    }
   ],
   "source": [
    "# Compute cases per year\n",
    "table1 %>% \n",
    "  count(year, wt = cases)"
   ]
  },
  {
   "cell_type": "code",
   "execution_count": 31,
   "metadata": {},
   "outputs": [
    {
     "data": {},
     "metadata": {},
     "output_type": "display_data"
    },
    {
     "data": {
      "image/png": "[encoded data removed]",
      "text/plain": [
       "plot without title"
      ]
     },
     "metadata": {},
     "output_type": "display_data"
    }
   ],
   "source": [
    "# Visualise changes over time\n",
    "ggplot(table1, aes(year, cases)) + \n",
    "  geom_line(aes(group = country), colour = \"grey50\") + \n",
    "  geom_point(aes(colour = country))"
   ]
  },
  {
   "cell_type": "markdown",
   "metadata": {},
   "source": [
    "## Gather"
   ]
  },
  {
   "cell_type": "markdown",
   "metadata": {},
   "source": [
    "A common problem is a dataset where some of the column names are not names of variables, but  *values*  of a variable. Take table4a: the column names 1999 and 2000 represent values of the year variable, and each row represents two observations, not one."
   ]
  },
  {
   "cell_type": "code",
   "execution_count": 33,
   "metadata": {},
   "outputs": [
    {
     "data": {
      "text/html": [
       "<table>\n",
       "<thead><tr><th scope=col>country</th><th scope=col>1999</th><th scope=col>2000</th></tr></thead>\n",
       "<tbody>\n",
       "\t<tr><td>Afghanistan</td><td>   745     </td><td>  2666     </td></tr>\n",
       "\t<tr><td>Brazil     </td><td> 37737     </td><td> 80488     </td></tr>\n",
       "\t<tr><td>China      </td><td>212258     </td><td>213766     </td></tr>\n",
       "</tbody>\n",
       "</table>\n"
      ],
      "text/latex": [
       "\\begin{tabular}{r|lll}\n",
       " country & 1999 & 2000\\\\\n",
       "\\hline\n",
       "\t Afghanistan &    745      &   2666     \\\\\n",
       "\t Brazil      &  37737      &  80488     \\\\\n",
       "\t China       & 212258      & 213766     \\\\\n",
       "\\end{tabular}\n"
      ],
      "text/markdown": [
       "\n",
       "country | 1999 | 2000 | \n",
       "|---|---|---|\n",
       "| Afghanistan |    745      |   2666      | \n",
       "| Brazil      |  37737      |  80488      | \n",
       "| China       | 212258      | 213766      | \n",
       "\n",
       "\n"
      ],
      "text/plain": [
       "  country     1999   2000  \n",
       "1 Afghanistan    745   2666\n",
       "2 Brazil       37737  80488\n",
       "3 China       212258 213766"
      ]
     },
     "metadata": {},
     "output_type": "display_data"
    }
   ],
   "source": [
    "table4a"
   ]
  },
  {
   "cell_type": "markdown",
   "metadata": {},
   "source": [
    "To tidy a dataset like this, we need to gather those columns into a new pair of variables. To describe that operation we need three parameters:\n",
    "\n",
    "* The set of columns that represent values, not variables. In this example, those are the columns 1999 and 2000.\n",
    "\n",
    "* The name of the variable whose values form the column names. This is called  keykey , and here it is  yearyear .\n",
    "\n",
    "* The name of the variable whose values are spread over the cells. This is called the  valuevalue , and here it’s the number of cases.\n",
    "\n",
    "Note that “1999” and “2000” are non-syntactic names (because they don’t start with a letter) so we have to surround them in backticks"
   ]
  },
  {
   "cell_type": "code",
   "execution_count": 34,
   "metadata": {},
   "outputs": [
    {
     "data": {
      "text/html": [
       "<table>\n",
       "<thead><tr><th scope=col>country</th><th scope=col>year</th><th scope=col>cases</th></tr></thead>\n",
       "<tbody>\n",
       "\t<tr><td>Afghanistan</td><td>1999       </td><td>   745     </td></tr>\n",
       "\t<tr><td>Brazil     </td><td>1999       </td><td> 37737     </td></tr>\n",
       "\t<tr><td>China      </td><td>1999       </td><td>212258     </td></tr>\n",
       "\t<tr><td>Afghanistan</td><td>2000       </td><td>  2666     </td></tr>\n",
       "\t<tr><td>Brazil     </td><td>2000       </td><td> 80488     </td></tr>\n",
       "\t<tr><td>China      </td><td>2000       </td><td>213766     </td></tr>\n",
       "</tbody>\n",
       "</table>\n"
      ],
      "text/latex": [
       "\\begin{tabular}{r|lll}\n",
       " country & year & cases\\\\\n",
       "\\hline\n",
       "\t Afghanistan & 1999        &    745     \\\\\n",
       "\t Brazil      & 1999        &  37737     \\\\\n",
       "\t China       & 1999        & 212258     \\\\\n",
       "\t Afghanistan & 2000        &   2666     \\\\\n",
       "\t Brazil      & 2000        &  80488     \\\\\n",
       "\t China       & 2000        & 213766     \\\\\n",
       "\\end{tabular}\n"
      ],
      "text/markdown": [
       "\n",
       "country | year | cases | \n",
       "|---|---|---|---|---|---|\n",
       "| Afghanistan | 1999        |    745      | \n",
       "| Brazil      | 1999        |  37737      | \n",
       "| China       | 1999        | 212258      | \n",
       "| Afghanistan | 2000        |   2666      | \n",
       "| Brazil      | 2000        |  80488      | \n",
       "| China       | 2000        | 213766      | \n",
       "\n",
       "\n"
      ],
      "text/plain": [
       "  country     year cases \n",
       "1 Afghanistan 1999    745\n",
       "2 Brazil      1999  37737\n",
       "3 China       1999 212258\n",
       "4 Afghanistan 2000   2666\n",
       "5 Brazil      2000  80488\n",
       "6 China       2000 213766"
      ]
     },
     "metadata": {},
     "output_type": "display_data"
    }
   ],
   "source": [
    "tidy_4a <- table4a %>% \n",
    "  gather(`1999`, `2000`, key = \"year\", value = \"cases\")\n",
    "tidy_4a"
   ]
  },
  {
   "cell_type": "code",
   "execution_count": 35,
   "metadata": {},
   "outputs": [
    {
     "data": {
      "text/html": [
       "<table>\n",
       "<thead><tr><th scope=col>country</th><th scope=col>1999</th><th scope=col>2000</th></tr></thead>\n",
       "<tbody>\n",
       "\t<tr><td>Afghanistan</td><td>  19987071 </td><td>  20595360 </td></tr>\n",
       "\t<tr><td>Brazil     </td><td> 172006362 </td><td> 174504898 </td></tr>\n",
       "\t<tr><td>China      </td><td>1272915272 </td><td>1280428583 </td></tr>\n",
       "</tbody>\n",
       "</table>\n"
      ],
      "text/latex": [
       "\\begin{tabular}{r|lll}\n",
       " country & 1999 & 2000\\\\\n",
       "\\hline\n",
       "\t Afghanistan &   19987071  &   20595360 \\\\\n",
       "\t Brazil      &  172006362  &  174504898 \\\\\n",
       "\t China       & 1272915272  & 1280428583 \\\\\n",
       "\\end{tabular}\n"
      ],
      "text/markdown": [
       "\n",
       "country | 1999 | 2000 | \n",
       "|---|---|---|\n",
       "| Afghanistan |   19987071  |   20595360  | \n",
       "| Brazil      |  172006362  |  174504898  | \n",
       "| China       | 1272915272  | 1280428583  | \n",
       "\n",
       "\n"
      ],
      "text/plain": [
       "  country     1999       2000      \n",
       "1 Afghanistan   19987071   20595360\n",
       "2 Brazil       172006362  174504898\n",
       "3 China       1272915272 1280428583"
      ]
     },
     "metadata": {},
     "output_type": "display_data"
    }
   ],
   "source": [
    "table4b"
   ]
  },
  {
   "cell_type": "code",
   "execution_count": 36,
   "metadata": {},
   "outputs": [
    {
     "data": {
      "text/html": [
       "<table>\n",
       "<thead><tr><th scope=col>country</th><th scope=col>year</th><th scope=col>population</th></tr></thead>\n",
       "<tbody>\n",
       "\t<tr><td>Afghanistan</td><td>1999       </td><td>  19987071 </td></tr>\n",
       "\t<tr><td>Brazil     </td><td>1999       </td><td> 172006362 </td></tr>\n",
       "\t<tr><td>China      </td><td>1999       </td><td>1272915272 </td></tr>\n",
       "\t<tr><td>Afghanistan</td><td>2000       </td><td>  20595360 </td></tr>\n",
       "\t<tr><td>Brazil     </td><td>2000       </td><td> 174504898 </td></tr>\n",
       "\t<tr><td>China      </td><td>2000       </td><td>1280428583 </td></tr>\n",
       "</tbody>\n",
       "</table>\n"
      ],
      "text/latex": [
       "\\begin{tabular}{r|lll}\n",
       " country & year & population\\\\\n",
       "\\hline\n",
       "\t Afghanistan & 1999        &   19987071 \\\\\n",
       "\t Brazil      & 1999        &  172006362 \\\\\n",
       "\t China       & 1999        & 1272915272 \\\\\n",
       "\t Afghanistan & 2000        &   20595360 \\\\\n",
       "\t Brazil      & 2000        &  174504898 \\\\\n",
       "\t China       & 2000        & 1280428583 \\\\\n",
       "\\end{tabular}\n"
      ],
      "text/markdown": [
       "\n",
       "country | year | population | \n",
       "|---|---|---|---|---|---|\n",
       "| Afghanistan | 1999        |   19987071  | \n",
       "| Brazil      | 1999        |  172006362  | \n",
       "| China       | 1999        | 1272915272  | \n",
       "| Afghanistan | 2000        |   20595360  | \n",
       "| Brazil      | 2000        |  174504898  | \n",
       "| China       | 2000        | 1280428583  | \n",
       "\n",
       "\n"
      ],
      "text/plain": [
       "  country     year population\n",
       "1 Afghanistan 1999   19987071\n",
       "2 Brazil      1999  172006362\n",
       "3 China       1999 1272915272\n",
       "4 Afghanistan 2000   20595360\n",
       "5 Brazil      2000  174504898\n",
       "6 China       2000 1280428583"
      ]
     },
     "metadata": {},
     "output_type": "display_data"
    }
   ],
   "source": [
    "tidy_4b <- table4b %>% \n",
    "  gather(`1999`, `2000`, key = \"year\", value = \"population\")\n",
    "tidy_4b"
   ]
  },
  {
   "cell_type": "code",
   "execution_count": 37,
   "metadata": {},
   "outputs": [
    {
     "name": "stderr",
     "output_type": "stream",
     "text": [
      "Joining, by = c(\"country\", \"year\")\n"
     ]
    },
    {
     "data": {
      "text/html": [
       "<table>\n",
       "<thead><tr><th scope=col>country</th><th scope=col>year</th><th scope=col>cases</th><th scope=col>population</th></tr></thead>\n",
       "<tbody>\n",
       "\t<tr><td>Afghanistan</td><td>1999       </td><td>   745     </td><td>  19987071 </td></tr>\n",
       "\t<tr><td>Brazil     </td><td>1999       </td><td> 37737     </td><td> 172006362 </td></tr>\n",
       "\t<tr><td>China      </td><td>1999       </td><td>212258     </td><td>1272915272 </td></tr>\n",
       "\t<tr><td>Afghanistan</td><td>2000       </td><td>  2666     </td><td>  20595360 </td></tr>\n",
       "\t<tr><td>Brazil     </td><td>2000       </td><td> 80488     </td><td> 174504898 </td></tr>\n",
       "\t<tr><td>China      </td><td>2000       </td><td>213766     </td><td>1280428583 </td></tr>\n",
       "</tbody>\n",
       "</table>\n"
      ],
      "text/latex": [
       "\\begin{tabular}{r|llll}\n",
       " country & year & cases & population\\\\\n",
       "\\hline\n",
       "\t Afghanistan & 1999        &    745      &   19987071 \\\\\n",
       "\t Brazil      & 1999        &  37737      &  172006362 \\\\\n",
       "\t China       & 1999        & 212258      & 1272915272 \\\\\n",
       "\t Afghanistan & 2000        &   2666      &   20595360 \\\\\n",
       "\t Brazil      & 2000        &  80488      &  174504898 \\\\\n",
       "\t China       & 2000        & 213766      & 1280428583 \\\\\n",
       "\\end{tabular}\n"
      ],
      "text/markdown": [
       "\n",
       "country | year | cases | population | \n",
       "|---|---|---|---|---|---|\n",
       "| Afghanistan | 1999        |    745      |   19987071  | \n",
       "| Brazil      | 1999        |  37737      |  172006362  | \n",
       "| China       | 1999        | 212258      | 1272915272  | \n",
       "| Afghanistan | 2000        |   2666      |   20595360  | \n",
       "| Brazil      | 2000        |  80488      |  174504898  | \n",
       "| China       | 2000        | 213766      | 1280428583  | \n",
       "\n",
       "\n"
      ],
      "text/plain": [
       "  country     year cases  population\n",
       "1 Afghanistan 1999    745   19987071\n",
       "2 Brazil      1999  37737  172006362\n",
       "3 China       1999 212258 1272915272\n",
       "4 Afghanistan 2000   2666   20595360\n",
       "5 Brazil      2000  80488  174504898\n",
       "6 China       2000 213766 1280428583"
      ]
     },
     "metadata": {},
     "output_type": "display_data"
    }
   ],
   "source": [
    "left_join(tidy_4a, tidy_4b)"
   ]
  },
  {
   "cell_type": "markdown",
   "metadata": {},
   "source": [
    "## Spreading\n",
    "Spreading is the opposite of gathering. You use it when an observation is scattered across multiple rows. For example, take table2: an observation is a country in a year, but each observation is spread across two rows."
   ]
  },
  {
   "cell_type": "code",
   "execution_count": 38,
   "metadata": {},
   "outputs": [
    {
     "data": {
      "text/html": [
       "<table>\n",
       "<thead><tr><th scope=col>country</th><th scope=col>year</th><th scope=col>type</th><th scope=col>count</th></tr></thead>\n",
       "<tbody>\n",
       "\t<tr><td>Afghanistan</td><td>1999       </td><td>cases      </td><td>       745 </td></tr>\n",
       "\t<tr><td>Afghanistan</td><td>1999       </td><td>population </td><td>  19987071 </td></tr>\n",
       "\t<tr><td>Afghanistan</td><td>2000       </td><td>cases      </td><td>      2666 </td></tr>\n",
       "\t<tr><td>Afghanistan</td><td>2000       </td><td>population </td><td>  20595360 </td></tr>\n",
       "\t<tr><td>Brazil     </td><td>1999       </td><td>cases      </td><td>     37737 </td></tr>\n",
       "\t<tr><td>Brazil     </td><td>1999       </td><td>population </td><td> 172006362 </td></tr>\n",
       "\t<tr><td>Brazil     </td><td>2000       </td><td>cases      </td><td>     80488 </td></tr>\n",
       "\t<tr><td>Brazil     </td><td>2000       </td><td>population </td><td> 174504898 </td></tr>\n",
       "\t<tr><td>China      </td><td>1999       </td><td>cases      </td><td>    212258 </td></tr>\n",
       "\t<tr><td>China      </td><td>1999       </td><td>population </td><td>1272915272 </td></tr>\n",
       "\t<tr><td>China      </td><td>2000       </td><td>cases      </td><td>    213766 </td></tr>\n",
       "\t<tr><td>China      </td><td>2000       </td><td>population </td><td>1280428583 </td></tr>\n",
       "</tbody>\n",
       "</table>\n"
      ],
      "text/latex": [
       "\\begin{tabular}{r|llll}\n",
       " country & year & type & count\\\\\n",
       "\\hline\n",
       "\t Afghanistan & 1999        & cases       &        745 \\\\\n",
       "\t Afghanistan & 1999        & population  &   19987071 \\\\\n",
       "\t Afghanistan & 2000        & cases       &       2666 \\\\\n",
       "\t Afghanistan & 2000        & population  &   20595360 \\\\\n",
       "\t Brazil      & 1999        & cases       &      37737 \\\\\n",
       "\t Brazil      & 1999        & population  &  172006362 \\\\\n",
       "\t Brazil      & 2000        & cases       &      80488 \\\\\n",
       "\t Brazil      & 2000        & population  &  174504898 \\\\\n",
       "\t China       & 1999        & cases       &     212258 \\\\\n",
       "\t China       & 1999        & population  & 1272915272 \\\\\n",
       "\t China       & 2000        & cases       &     213766 \\\\\n",
       "\t China       & 2000        & population  & 1280428583 \\\\\n",
       "\\end{tabular}\n"
      ],
      "text/markdown": [
       "\n",
       "country | year | type | count | \n",
       "|---|---|---|---|---|---|---|---|---|---|---|---|\n",
       "| Afghanistan | 1999        | cases       |        745  | \n",
       "| Afghanistan | 1999        | population  |   19987071  | \n",
       "| Afghanistan | 2000        | cases       |       2666  | \n",
       "| Afghanistan | 2000        | population  |   20595360  | \n",
       "| Brazil      | 1999        | cases       |      37737  | \n",
       "| Brazil      | 1999        | population  |  172006362  | \n",
       "| Brazil      | 2000        | cases       |      80488  | \n",
       "| Brazil      | 2000        | population  |  174504898  | \n",
       "| China       | 1999        | cases       |     212258  | \n",
       "| China       | 1999        | population  | 1272915272  | \n",
       "| China       | 2000        | cases       |     213766  | \n",
       "| China       | 2000        | population  | 1280428583  | \n",
       "\n",
       "\n"
      ],
      "text/plain": [
       "   country     year type       count     \n",
       "1  Afghanistan 1999 cases             745\n",
       "2  Afghanistan 1999 population   19987071\n",
       "3  Afghanistan 2000 cases            2666\n",
       "4  Afghanistan 2000 population   20595360\n",
       "5  Brazil      1999 cases           37737\n",
       "6  Brazil      1999 population  172006362\n",
       "7  Brazil      2000 cases           80488\n",
       "8  Brazil      2000 population  174504898\n",
       "9  China       1999 cases          212258\n",
       "10 China       1999 population 1272915272\n",
       "11 China       2000 cases          213766\n",
       "12 China       2000 population 1280428583"
      ]
     },
     "metadata": {},
     "output_type": "display_data"
    }
   ],
   "source": [
    "table2"
   ]
  },
  {
   "cell_type": "markdown",
   "metadata": {},
   "source": [
    "To tidy this up, we first analyse the representation in similar way to gather(). This time, however, we only need two parameters:\n",
    "\n",
    "The column that contains variable names, the key column. Here, it’s *type*.\n",
    "\n",
    "The column that contains values from multiple variables, the value column. Here it’s *count*.\n",
    "\n",
    "Note that there's no need to use backticks here"
   ]
  },
  {
   "cell_type": "code",
   "execution_count": 40,
   "metadata": {},
   "outputs": [
    {
     "data": {
      "text/html": [
       "<table>\n",
       "<thead><tr><th scope=col>country</th><th scope=col>year</th><th scope=col>type</th><th scope=col>count</th></tr></thead>\n",
       "<tbody>\n",
       "\t<tr><td>Afghanistan</td><td>1999       </td><td>cases      </td><td>       745 </td></tr>\n",
       "\t<tr><td>Afghanistan</td><td>1999       </td><td>population </td><td>  19987071 </td></tr>\n",
       "\t<tr><td>Afghanistan</td><td>2000       </td><td>cases      </td><td>      2666 </td></tr>\n",
       "\t<tr><td>Afghanistan</td><td>2000       </td><td>population </td><td>  20595360 </td></tr>\n",
       "\t<tr><td>Brazil     </td><td>1999       </td><td>cases      </td><td>     37737 </td></tr>\n",
       "\t<tr><td>Brazil     </td><td>1999       </td><td>population </td><td> 172006362 </td></tr>\n",
       "\t<tr><td>Brazil     </td><td>2000       </td><td>cases      </td><td>     80488 </td></tr>\n",
       "\t<tr><td>Brazil     </td><td>2000       </td><td>population </td><td> 174504898 </td></tr>\n",
       "\t<tr><td>China      </td><td>1999       </td><td>cases      </td><td>    212258 </td></tr>\n",
       "\t<tr><td>China      </td><td>1999       </td><td>population </td><td>1272915272 </td></tr>\n",
       "\t<tr><td>China      </td><td>2000       </td><td>cases      </td><td>    213766 </td></tr>\n",
       "\t<tr><td>China      </td><td>2000       </td><td>population </td><td>1280428583 </td></tr>\n",
       "</tbody>\n",
       "</table>\n"
      ],
      "text/latex": [
       "\\begin{tabular}{r|llll}\n",
       " country & year & type & count\\\\\n",
       "\\hline\n",
       "\t Afghanistan & 1999        & cases       &        745 \\\\\n",
       "\t Afghanistan & 1999        & population  &   19987071 \\\\\n",
       "\t Afghanistan & 2000        & cases       &       2666 \\\\\n",
       "\t Afghanistan & 2000        & population  &   20595360 \\\\\n",
       "\t Brazil      & 1999        & cases       &      37737 \\\\\n",
       "\t Brazil      & 1999        & population  &  172006362 \\\\\n",
       "\t Brazil      & 2000        & cases       &      80488 \\\\\n",
       "\t Brazil      & 2000        & population  &  174504898 \\\\\n",
       "\t China       & 1999        & cases       &     212258 \\\\\n",
       "\t China       & 1999        & population  & 1272915272 \\\\\n",
       "\t China       & 2000        & cases       &     213766 \\\\\n",
       "\t China       & 2000        & population  & 1280428583 \\\\\n",
       "\\end{tabular}\n"
      ],
      "text/markdown": [
       "\n",
       "country | year | type | count | \n",
       "|---|---|---|---|---|---|---|---|---|---|---|---|\n",
       "| Afghanistan | 1999        | cases       |        745  | \n",
       "| Afghanistan | 1999        | population  |   19987071  | \n",
       "| Afghanistan | 2000        | cases       |       2666  | \n",
       "| Afghanistan | 2000        | population  |   20595360  | \n",
       "| Brazil      | 1999        | cases       |      37737  | \n",
       "| Brazil      | 1999        | population  |  172006362  | \n",
       "| Brazil      | 2000        | cases       |      80488  | \n",
       "| Brazil      | 2000        | population  |  174504898  | \n",
       "| China       | 1999        | cases       |     212258  | \n",
       "| China       | 1999        | population  | 1272915272  | \n",
       "| China       | 2000        | cases       |     213766  | \n",
       "| China       | 2000        | population  | 1280428583  | \n",
       "\n",
       "\n"
      ],
      "text/plain": [
       "   country     year type       count     \n",
       "1  Afghanistan 1999 cases             745\n",
       "2  Afghanistan 1999 population   19987071\n",
       "3  Afghanistan 2000 cases            2666\n",
       "4  Afghanistan 2000 population   20595360\n",
       "5  Brazil      1999 cases           37737\n",
       "6  Brazil      1999 population  172006362\n",
       "7  Brazil      2000 cases           80488\n",
       "8  Brazil      2000 population  174504898\n",
       "9  China       1999 cases          212258\n",
       "10 China       1999 population 1272915272\n",
       "11 China       2000 cases          213766\n",
       "12 China       2000 population 1280428583"
      ]
     },
     "metadata": {},
     "output_type": "display_data"
    },
    {
     "data": {
      "text/html": [
       "<table>\n",
       "<thead><tr><th scope=col>country</th><th scope=col>year</th><th scope=col>cases</th><th scope=col>population</th></tr></thead>\n",
       "<tbody>\n",
       "\t<tr><td>Afghanistan</td><td>1999       </td><td>   745     </td><td>  19987071 </td></tr>\n",
       "\t<tr><td>Afghanistan</td><td>2000       </td><td>  2666     </td><td>  20595360 </td></tr>\n",
       "\t<tr><td>Brazil     </td><td>1999       </td><td> 37737     </td><td> 172006362 </td></tr>\n",
       "\t<tr><td>Brazil     </td><td>2000       </td><td> 80488     </td><td> 174504898 </td></tr>\n",
       "\t<tr><td>China      </td><td>1999       </td><td>212258     </td><td>1272915272 </td></tr>\n",
       "\t<tr><td>China      </td><td>2000       </td><td>213766     </td><td>1280428583 </td></tr>\n",
       "</tbody>\n",
       "</table>\n"
      ],
      "text/latex": [
       "\\begin{tabular}{r|llll}\n",
       " country & year & cases & population\\\\\n",
       "\\hline\n",
       "\t Afghanistan & 1999        &    745      &   19987071 \\\\\n",
       "\t Afghanistan & 2000        &   2666      &   20595360 \\\\\n",
       "\t Brazil      & 1999        &  37737      &  172006362 \\\\\n",
       "\t Brazil      & 2000        &  80488      &  174504898 \\\\\n",
       "\t China       & 1999        & 212258      & 1272915272 \\\\\n",
       "\t China       & 2000        & 213766      & 1280428583 \\\\\n",
       "\\end{tabular}\n"
      ],
      "text/markdown": [
       "\n",
       "country | year | cases | population | \n",
       "|---|---|---|---|---|---|\n",
       "| Afghanistan | 1999        |    745      |   19987071  | \n",
       "| Afghanistan | 2000        |   2666      |   20595360  | \n",
       "| Brazil      | 1999        |  37737      |  172006362  | \n",
       "| Brazil      | 2000        |  80488      |  174504898  | \n",
       "| China       | 1999        | 212258      | 1272915272  | \n",
       "| China       | 2000        | 213766      | 1280428583  | \n",
       "\n",
       "\n"
      ],
      "text/plain": [
       "  country     year cases  population\n",
       "1 Afghanistan 1999    745   19987071\n",
       "2 Afghanistan 2000   2666   20595360\n",
       "3 Brazil      1999  37737  172006362\n",
       "4 Brazil      2000  80488  174504898\n",
       "5 China       1999 212258 1272915272\n",
       "6 China       2000 213766 1280428583"
      ]
     },
     "metadata": {},
     "output_type": "display_data"
    }
   ],
   "source": [
    "table2\n",
    "spread(table2, key = type, value = count)"
   ]
  },
  {
   "cell_type": "markdown",
   "metadata": {},
   "source": [
    "### Exercises\n",
    "* Why are gather() and spread() not perfectly symmetrical? Carefully consider the following example (note the variable types in the tibbles - not shown below):"
   ]
  },
  {
   "cell_type": "code",
   "execution_count": 41,
   "metadata": {},
   "outputs": [
    {
     "data": {
      "text/html": [
       "<table>\n",
       "<thead><tr><th scope=col>year</th><th scope=col>half</th><th scope=col>return</th></tr></thead>\n",
       "<tbody>\n",
       "\t<tr><td>2015</td><td>1   </td><td>1.88</td></tr>\n",
       "\t<tr><td>2015</td><td>2   </td><td>0.59</td></tr>\n",
       "\t<tr><td>2016</td><td>1   </td><td>0.92</td></tr>\n",
       "\t<tr><td>2016</td><td>2   </td><td>0.17</td></tr>\n",
       "</tbody>\n",
       "</table>\n"
      ],
      "text/latex": [
       "\\begin{tabular}{r|lll}\n",
       " year & half & return\\\\\n",
       "\\hline\n",
       "\t 2015 & 1    & 1.88\\\\\n",
       "\t 2015 & 2    & 0.59\\\\\n",
       "\t 2016 & 1    & 0.92\\\\\n",
       "\t 2016 & 2    & 0.17\\\\\n",
       "\\end{tabular}\n"
      ],
      "text/markdown": [
       "\n",
       "year | half | return | \n",
       "|---|---|---|---|\n",
       "| 2015 | 1    | 1.88 | \n",
       "| 2015 | 2    | 0.59 | \n",
       "| 2016 | 1    | 0.92 | \n",
       "| 2016 | 2    | 0.17 | \n",
       "\n",
       "\n"
      ],
      "text/plain": [
       "  year half return\n",
       "1 2015 1    1.88  \n",
       "2 2015 2    0.59  \n",
       "3 2016 1    0.92  \n",
       "4 2016 2    0.17  "
      ]
     },
     "metadata": {},
     "output_type": "display_data"
    }
   ],
   "source": [
    "stocks = tibble(\n",
    "  year   = c(2015, 2015, 2016, 2016),\n",
    "  half  = c(   1,    2,     1,    2),\n",
    "  return = c(1.88, 0.59, 0.92, 0.17)\n",
    ")\n",
    "stocks"
   ]
  },
  {
   "cell_type": "code",
   "execution_count": 42,
   "metadata": {},
   "outputs": [
    {
     "data": {
      "text/html": [
       "<table>\n",
       "<thead><tr><th scope=col>half</th><th scope=col>year</th><th scope=col>return</th></tr></thead>\n",
       "<tbody>\n",
       "\t<tr><td>1   </td><td>2015</td><td>1.88</td></tr>\n",
       "\t<tr><td>2   </td><td>2015</td><td>0.59</td></tr>\n",
       "\t<tr><td>1   </td><td>2016</td><td>0.92</td></tr>\n",
       "\t<tr><td>2   </td><td>2016</td><td>0.17</td></tr>\n",
       "</tbody>\n",
       "</table>\n"
      ],
      "text/latex": [
       "\\begin{tabular}{r|lll}\n",
       " half & year & return\\\\\n",
       "\\hline\n",
       "\t 1    & 2015 & 1.88\\\\\n",
       "\t 2    & 2015 & 0.59\\\\\n",
       "\t 1    & 2016 & 0.92\\\\\n",
       "\t 2    & 2016 & 0.17\\\\\n",
       "\\end{tabular}\n"
      ],
      "text/markdown": [
       "\n",
       "half | year | return | \n",
       "|---|---|---|---|\n",
       "| 1    | 2015 | 1.88 | \n",
       "| 2    | 2015 | 0.59 | \n",
       "| 1    | 2016 | 0.92 | \n",
       "| 2    | 2016 | 0.17 | \n",
       "\n",
       "\n"
      ],
      "text/plain": [
       "  half year return\n",
       "1 1    2015 1.88  \n",
       "2 2    2015 0.59  \n",
       "3 1    2016 0.92  \n",
       "4 2    2016 0.17  "
      ]
     },
     "metadata": {},
     "output_type": "display_data"
    }
   ],
   "source": [
    "stocks %>% \n",
    "  spread(year, return) %>% \n",
    "  gather(\"year\", \"return\", `2015`:`2016`)"
   ]
  },
  {
   "cell_type": "markdown",
   "metadata": {},
   "source": [
    "Both spread() and gather() have a convert argument. What does it do?"
   ]
  },
  {
   "cell_type": "markdown",
   "metadata": {},
   "source": [
    "## Regular expression\n",
    "Useful lab notes from https://rawgit.com/byoungwookjang/stats406_f17_labs/master/lab7/Stats406Lab7.html"
   ]
  },
  {
   "cell_type": "code",
   "execution_count": 43,
   "metadata": {},
   "outputs": [
    {
     "name": "stderr",
     "output_type": "stream",
     "text": [
      "Loading required package: stringr\n"
     ]
    },
    {
     "data": {
      "text/html": [
       "FALSE"
      ],
      "text/latex": [
       "FALSE"
      ],
      "text/markdown": [
       "FALSE"
      ],
      "text/plain": [
       "[1] FALSE"
      ]
     },
     "metadata": {},
     "output_type": "display_data"
    }
   ],
   "source": [
    "require(stringr)\n",
    "our_state = \"Michigan\"\n",
    "ne_states = c(\"Connecticut\", \"Maine\", \"Massachusetts\", \"Vermont\", \"New Hampshire\", \"Rhode Island\")\n",
    "our_state %in% ne_states"
   ]
  },
  {
   "cell_type": "code",
   "execution_count": 44,
   "metadata": {},
   "outputs": [],
   "source": [
    "double_quote = '\\\"'"
   ]
  },
  {
   "cell_type": "code",
   "execution_count": 45,
   "metadata": {},
   "outputs": [
    {
     "name": "stdout",
     "output_type": "stream",
     "text": [
      "[1] \"\\\"\"\n"
     ]
    }
   ],
   "source": [
    "print(double_quote)"
   ]
  },
  {
   "cell_type": "code",
   "execution_count": 46,
   "metadata": {},
   "outputs": [
    {
     "name": "stdout",
     "output_type": "stream",
     "text": [
      "\"\n"
     ]
    }
   ],
   "source": [
    "writeLines(double_quote)"
   ]
  },
  {
   "cell_type": "code",
   "execution_count": 47,
   "metadata": {},
   "outputs": [
    {
     "data": {
      "text/html": [
       "<ol class=list-inline>\n",
       "\t<li>11</li>\n",
       "\t<li>5</li>\n",
       "\t<li>13</li>\n",
       "\t<li>7</li>\n",
       "\t<li>13</li>\n",
       "\t<li>12</li>\n",
       "</ol>\n"
      ],
      "text/latex": [
       "\\begin{enumerate*}\n",
       "\\item 11\n",
       "\\item 5\n",
       "\\item 13\n",
       "\\item 7\n",
       "\\item 13\n",
       "\\item 12\n",
       "\\end{enumerate*}\n"
      ],
      "text/markdown": [
       "1. 11\n",
       "2. 5\n",
       "3. 13\n",
       "4. 7\n",
       "5. 13\n",
       "6. 12\n",
       "\n",
       "\n"
      ],
      "text/plain": [
       "[1] 11  5 13  7 13 12"
      ]
     },
     "metadata": {},
     "output_type": "display_data"
    }
   ],
   "source": [
    "str_length(ne_states) # c(\"Connecticut\", \"Maine\", \"Massachusetts\", \"Vermont\", \"New Hampshire\", \"Rhode Island\")"
   ]
  },
  {
   "cell_type": "code",
   "execution_count": 48,
   "metadata": {},
   "outputs": [
    {
     "data": {
      "text/html": [
       "'Addis Ababa, Ethiopia'"
      ],
      "text/latex": [
       "'Addis Ababa, Ethiopia'"
      ],
      "text/markdown": [
       "'Addis Ababa, Ethiopia'"
      ],
      "text/plain": [
       "[1] \"Addis Ababa, Ethiopia\""
      ]
     },
     "metadata": {},
     "output_type": "display_data"
    }
   ],
   "source": [
    "str_c(\"Addis Ababa\", \"Ethiopia\", sep = \", \")"
   ]
  },
  {
   "cell_type": "code",
   "execution_count": 49,
   "metadata": {},
   "outputs": [
    {
     "name": "stdout",
     "output_type": "stream",
     "text": [
      "[1] \"abc\" NA   \n"
     ]
    }
   ],
   "source": [
    "x = c(\"abc\", NA)\n",
    "print(x)"
   ]
  },
  {
   "cell_type": "code",
   "execution_count": 50,
   "metadata": {},
   "outputs": [
    {
     "data": {
      "text/html": [
       "<ol class=list-inline>\n",
       "\t<li>'|-abc-|'</li>\n",
       "\t<li>'NA'</li>\n",
       "</ol>\n"
      ],
      "text/latex": [
       "\\begin{enumerate*}\n",
       "\\item '\\textbar{}-abc-\\textbar{}'\n",
       "\\item 'NA'\n",
       "\\end{enumerate*}\n"
      ],
      "text/markdown": [
       "1. '|-abc-|'\n",
       "2. 'NA'\n",
       "\n",
       "\n"
      ],
      "text/plain": [
       "[1] \"|-abc-|\" NA       "
      ]
     },
     "metadata": {},
     "output_type": "display_data"
    }
   ],
   "source": [
    "str_c(\"|-\", x, \"-|\")"
   ]
  },
  {
   "cell_type": "code",
   "execution_count": 51,
   "metadata": {},
   "outputs": [
    {
     "data": {
      "text/html": [
       "<ol class=list-inline>\n",
       "\t<li>'|-abc-|'</li>\n",
       "\t<li>'|-NA-|'</li>\n",
       "</ol>\n"
      ],
      "text/latex": [
       "\\begin{enumerate*}\n",
       "\\item '\\textbar{}-abc-\\textbar{}'\n",
       "\\item '\\textbar{}-NA-\\textbar{}'\n",
       "\\end{enumerate*}\n"
      ],
      "text/markdown": [
       "1. '|-abc-|'\n",
       "2. '|-NA-|'\n",
       "\n",
       "\n"
      ],
      "text/plain": [
       "[1] \"|-abc-|\" \"|-NA-|\" "
      ]
     },
     "metadata": {},
     "output_type": "display_data"
    }
   ],
   "source": [
    "str_c(\"|-\", str_replace_na(x), \"-|\")"
   ]
  },
  {
   "cell_type": "code",
   "execution_count": 53,
   "metadata": {},
   "outputs": [
    {
     "data": {
      "text/html": [
       "'Good afternoon Byoung.'"
      ],
      "text/latex": [
       "'Good afternoon Byoung.'"
      ],
      "text/markdown": [
       "'Good afternoon Byoung.'"
      ],
      "text/plain": [
       "[1] \"Good afternoon Byoung.\""
      ]
     },
     "metadata": {},
     "output_type": "display_data"
    }
   ],
   "source": [
    "name = \"Byoung\"\n",
    "time_of_day = \"afternoon\"\n",
    "birthday = FALSE # January just passed :(\n",
    "\n",
    "str_c(\n",
    "  \"Good \", time_of_day, \" \", name,\n",
    "  if (birthday) \" and HAPPY BIRTHDAY\",\n",
    "  \".\"\n",
    ")"
   ]
  },
  {
   "cell_type": "code",
   "execution_count": 54,
   "metadata": {},
   "outputs": [
    {
     "data": {
      "text/html": [
       "<ol class=list-inline>\n",
       "\t<li>'Con'</li>\n",
       "\t<li>'Mai'</li>\n",
       "\t<li>'Mas'</li>\n",
       "\t<li>'Ver'</li>\n",
       "\t<li>'New'</li>\n",
       "\t<li>'Rho'</li>\n",
       "</ol>\n"
      ],
      "text/latex": [
       "\\begin{enumerate*}\n",
       "\\item 'Con'\n",
       "\\item 'Mai'\n",
       "\\item 'Mas'\n",
       "\\item 'Ver'\n",
       "\\item 'New'\n",
       "\\item 'Rho'\n",
       "\\end{enumerate*}\n"
      ],
      "text/markdown": [
       "1. 'Con'\n",
       "2. 'Mai'\n",
       "3. 'Mas'\n",
       "4. 'Ver'\n",
       "5. 'New'\n",
       "6. 'Rho'\n",
       "\n",
       "\n"
      ],
      "text/plain": [
       "[1] \"Con\" \"Mai\" \"Mas\" \"Ver\" \"New\" \"Rho\""
      ]
     },
     "metadata": {},
     "output_type": "display_data"
    }
   ],
   "source": [
    "str_sub(ne_states, 1, 3)"
   ]
  },
  {
   "cell_type": "code",
   "execution_count": 55,
   "metadata": {},
   "outputs": [
    {
     "data": {
      "text/html": [
       "<ol class=list-inline>\n",
       "\t<li>'Connect'</li>\n",
       "\t<li>'Maine'</li>\n",
       "\t<li>'Massach'</li>\n",
       "\t<li>'Vermont'</li>\n",
       "\t<li>'New Ham'</li>\n",
       "\t<li>'Rhode I'</li>\n",
       "</ol>\n"
      ],
      "text/latex": [
       "\\begin{enumerate*}\n",
       "\\item 'Connect'\n",
       "\\item 'Maine'\n",
       "\\item 'Massach'\n",
       "\\item 'Vermont'\n",
       "\\item 'New Ham'\n",
       "\\item 'Rhode I'\n",
       "\\end{enumerate*}\n"
      ],
      "text/markdown": [
       "1. 'Connect'\n",
       "2. 'Maine'\n",
       "3. 'Massach'\n",
       "4. 'Vermont'\n",
       "5. 'New Ham'\n",
       "6. 'Rhode I'\n",
       "\n",
       "\n"
      ],
      "text/plain": [
       "[1] \"Connect\" \"Maine\"   \"Massach\" \"Vermont\" \"New Ham\" \"Rhode I\""
      ]
     },
     "metadata": {},
     "output_type": "display_data"
    }
   ],
   "source": [
    "str_sub(ne_states, 1, 7) # notice that this didn't fail for Maine"
   ]
  },
  {
   "cell_type": "code",
   "execution_count": 63,
   "metadata": {},
   "outputs": [
    {
     "data": {
      "text/html": [
       "<ol class=list-inline>\n",
       "\t<li>'Connecticut Maine, Massachusetts, Vermont'</li>\n",
       "\t<li>'New Hampshire'</li>\n",
       "\t<li>'Rhode Island'</li>\n",
       "</ol>\n"
      ],
      "text/latex": [
       "\\begin{enumerate*}\n",
       "\\item 'Connecticut Maine, Massachusetts, Vermont'\n",
       "\\item 'New Hampshire'\n",
       "\\item 'Rhode Island'\n",
       "\\end{enumerate*}\n"
      ],
      "text/markdown": [
       "1. 'Connecticut Maine, Massachusetts, Vermont'\n",
       "2. 'New Hampshire'\n",
       "3. 'Rhode Island'\n",
       "\n",
       "\n"
      ],
      "text/plain": [
       "[1] \"Connecticut Maine, Massachusetts, Vermont\"\n",
       "[2] \"New Hampshire\"                            \n",
       "[3] \"Rhode Island\"                             "
      ]
     },
     "metadata": {},
     "output_type": "display_data"
    },
    {
     "data": {
      "text/html": [
       "<ol class=list-inline>\n",
       "\t<li>'Connecticut Maine Massachusetts Vermont'</li>\n",
       "\t<li>'New Hampshire'</li>\n",
       "\t<li>'Rhode Island'</li>\n",
       "</ol>\n"
      ],
      "text/latex": [
       "\\begin{enumerate*}\n",
       "\\item 'Connecticut Maine Massachusetts Vermont'\n",
       "\\item 'New Hampshire'\n",
       "\\item 'Rhode Island'\n",
       "\\end{enumerate*}\n"
      ],
      "text/markdown": [
       "1. 'Connecticut Maine Massachusetts Vermont'\n",
       "2. 'New Hampshire'\n",
       "3. 'Rhode Island'\n",
       "\n",
       "\n"
      ],
      "text/plain": [
       "[1] \"Connecticut Maine Massachusetts Vermont\"\n",
       "[2] \"New Hampshire\"                          \n",
       "[3] \"Rhode Island\"                           "
      ]
     },
     "metadata": {},
     "output_type": "display_data"
    },
    {
     "data": {
      "text/html": [
       "<ol class=list-inline>\n",
       "\t<li>'Connecticuts WHAT Maines WHAT Massachusettss WHAT Vermont'</li>\n",
       "\t<li>'New Hampshire'</li>\n",
       "\t<li>'Rhode Island'</li>\n",
       "</ol>\n"
      ],
      "text/latex": [
       "\\begin{enumerate*}\n",
       "\\item 'Connecticuts WHAT Maines WHAT Massachusettss WHAT Vermont'\n",
       "\\item 'New Hampshire'\n",
       "\\item 'Rhode Island'\n",
       "\\end{enumerate*}\n"
      ],
      "text/markdown": [
       "1. 'Connecticuts WHAT Maines WHAT Massachusettss WHAT Vermont'\n",
       "2. 'New Hampshire'\n",
       "3. 'Rhode Island'\n",
       "\n",
       "\n"
      ],
      "text/plain": [
       "[1] \"Connecticuts WHAT Maines WHAT Massachusettss WHAT Vermont\"\n",
       "[2] \"New Hampshire\"                                            \n",
       "[3] \"Rhode Island\"                                             "
      ]
     },
     "metadata": {},
     "output_type": "display_data"
    },
    {
     "data": {
      "text/html": [
       "<ol>\n",
       "\t<li><ol class=list-inline>\n",
       "\t<li>'Connecticut'</li>\n",
       "\t<li>' Maine'</li>\n",
       "\t<li>' Massachusetts'</li>\n",
       "\t<li>' Vermont'</li>\n",
       "</ol>\n",
       "</li>\n",
       "</ol>\n"
      ],
      "text/latex": [
       "\\begin{enumerate}\n",
       "\\item \\begin{enumerate*}\n",
       "\\item 'Connecticut'\n",
       "\\item ' Maine'\n",
       "\\item ' Massachusetts'\n",
       "\\item ' Vermont'\n",
       "\\end{enumerate*}\n",
       "\n",
       "\\end{enumerate}\n"
      ],
      "text/markdown": [
       "1. 1. 'Connecticut'\n",
       "2. ' Maine'\n",
       "3. ' Massachusetts'\n",
       "4. ' Vermont'\n",
       "\n",
       "\n",
       "\n",
       "\n",
       "\n"
      ],
      "text/plain": [
       "[[1]]\n",
       "[1] \"Connecticut\"    \" Maine\"         \" Massachusetts\" \" Vermont\"      \n"
      ]
     },
     "metadata": {},
     "output_type": "display_data"
    }
   ],
   "source": [
    "ne_states = c(\"Connecticut, Maine, Massachusetts, Vermont\", \"New Hampshire\", \"Rhode Island\")\n",
    "str_replace(ne_states, ',', '')\n",
    "str_replace_all(ne_states, ',', '')\n",
    "str_replace_all(ne_states, ',', '\\\\s WHAT')\n",
    "str_split(ne_states[1], '\\\\,')"
   ]
  }
 ],
 "metadata": {
  "kernelspec": {
   "display_name": "R",
   "language": "R",
   "name": "ir"
  },
  "language_info": {
   "codemirror_mode": "r",
   "file_extension": ".r",
   "mimetype": "text/x-r-source",
   "name": "R",
   "pygments_lexer": "r",
   "version": "3.3.2"
  }
 },
 "nbformat": 4,
 "nbformat_minor": 2
}
